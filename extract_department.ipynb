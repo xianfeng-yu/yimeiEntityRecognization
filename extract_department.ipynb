{
 "metadata": {
  "language_info": {
   "codemirror_mode": {
    "name": "ipython",
    "version": 3
   },
   "file_extension": ".py",
   "mimetype": "text/x-python",
   "name": "python",
   "nbconvert_exporter": "python",
   "pygments_lexer": "ipython3",
   "version": "3.8.3-final"
  },
  "orig_nbformat": 2,
  "kernelspec": {
   "name": "python3",
   "display_name": "Python 3",
   "language": "python"
  }
 },
 "nbformat": 4,
 "nbformat_minor": 2,
 "cells": [
  {
   "cell_type": "code",
   "execution_count": 174,
   "metadata": {},
   "outputs": [],
   "source": [
    "import jieba\n",
    "import pandas as pd\n",
    "import jieba.analyse\n",
    "import jieba.posseg as posg\n",
    "import random\n",
    "import codecs\n",
    "import re\n",
    "import json\n",
    "import sys"
   ]
  },
  {
   "cell_type": "code",
   "execution_count": 88,
   "metadata": {},
   "outputs": [
    {
     "output_type": "execute_result",
     "data": {
      "text/plain": [
       "        Unnamed: 0                                               data  \\\n",
       "0                0  随着年纪额增长，我眼角的皱纹长起来了，加上自己不好的作息习惯，更加加速了衰老，最近想进行面部...   \n",
       "1                1               鼻翼长得非常宽大，想通过手术的方法缩小，请问医生鼻翼可以通过手术缩小吗？   \n",
       "2                2        我同事想去做自体脂肪丰胸手术，担心自己身上的钱不够，请问自体脂肪丰胸手术的价格多少钱？   \n",
       "3                3                                    做假体隆胸取出哪个医院比较好？   \n",
       "4                4     最近一直在想给自己隆鼻的问题，朋友们推荐我做注射隆鼻，那么我想问一下注射隆鼻的副作用是什么？   \n",
       "...            ...                                                ...   \n",
       "745252      745252    想要尝试一下隆胸，但是又怕别的材料不安全，想要尝试一下自体脂肪隆胸，自体脂肪隆胸需要多少钱呢？   \n",
       "745253      745253                我的下巴看上去一点都不好看，想去做丰下巴手术，做这种手术需要多少钱呢？   \n",
       "745254      745254  我因为工作性质的关系，没有太多的时间运动，现在小腿部位特别粗，一直想去做一个botox瘦小腿...   \n",
       "745255      745255                                      颧骨颧弓整形的费用是多少？   \n",
       "745256      745256             你好，我的鼻子小，并且鼻梁又有些低，听朋友说做隆鼻手术不错，费用需要多少呢？   \n",
       "\n",
       "                 tag  \n",
       "0       手术;面部除皱;手术方式  \n",
       "1                 手术  \n",
       "2          自体脂肪丰胸;手术  \n",
       "3            假体隆胸;医院  \n",
       "4        注射隆鼻;隆鼻;副作用  \n",
       "...              ...  \n",
       "745252     自体脂肪隆胸;隆胸  \n",
       "745253        手术;丰下巴  \n",
       "745254        手术;瘦小腿  \n",
       "745255     颧骨颧弓整形;费用  \n",
       "745256         隆鼻;手术  \n",
       "\n",
       "[745257 rows x 3 columns]"
      ],
      "text/html": "<div>\n<style scoped>\n    .dataframe tbody tr th:only-of-type {\n        vertical-align: middle;\n    }\n\n    .dataframe tbody tr th {\n        vertical-align: top;\n    }\n\n    .dataframe thead th {\n        text-align: right;\n    }\n</style>\n<table border=\"1\" class=\"dataframe\">\n  <thead>\n    <tr style=\"text-align: right;\">\n      <th></th>\n      <th>Unnamed: 0</th>\n      <th>data</th>\n      <th>tag</th>\n    </tr>\n  </thead>\n  <tbody>\n    <tr>\n      <th>0</th>\n      <td>0</td>\n      <td>随着年纪额增长，我眼角的皱纹长起来了，加上自己不好的作息习惯，更加加速了衰老，最近想进行面部...</td>\n      <td>手术;面部除皱;手术方式</td>\n    </tr>\n    <tr>\n      <th>1</th>\n      <td>1</td>\n      <td>鼻翼长得非常宽大，想通过手术的方法缩小，请问医生鼻翼可以通过手术缩小吗？</td>\n      <td>手术</td>\n    </tr>\n    <tr>\n      <th>2</th>\n      <td>2</td>\n      <td>我同事想去做自体脂肪丰胸手术，担心自己身上的钱不够，请问自体脂肪丰胸手术的价格多少钱？</td>\n      <td>自体脂肪丰胸;手术</td>\n    </tr>\n    <tr>\n      <th>3</th>\n      <td>3</td>\n      <td>做假体隆胸取出哪个医院比较好？</td>\n      <td>假体隆胸;医院</td>\n    </tr>\n    <tr>\n      <th>4</th>\n      <td>4</td>\n      <td>最近一直在想给自己隆鼻的问题，朋友们推荐我做注射隆鼻，那么我想问一下注射隆鼻的副作用是什么？</td>\n      <td>注射隆鼻;隆鼻;副作用</td>\n    </tr>\n    <tr>\n      <th>...</th>\n      <td>...</td>\n      <td>...</td>\n      <td>...</td>\n    </tr>\n    <tr>\n      <th>745252</th>\n      <td>745252</td>\n      <td>想要尝试一下隆胸，但是又怕别的材料不安全，想要尝试一下自体脂肪隆胸，自体脂肪隆胸需要多少钱呢？</td>\n      <td>自体脂肪隆胸;隆胸</td>\n    </tr>\n    <tr>\n      <th>745253</th>\n      <td>745253</td>\n      <td>我的下巴看上去一点都不好看，想去做丰下巴手术，做这种手术需要多少钱呢？</td>\n      <td>手术;丰下巴</td>\n    </tr>\n    <tr>\n      <th>745254</th>\n      <td>745254</td>\n      <td>我因为工作性质的关系，没有太多的时间运动，现在小腿部位特别粗，一直想去做一个botox瘦小腿...</td>\n      <td>手术;瘦小腿</td>\n    </tr>\n    <tr>\n      <th>745255</th>\n      <td>745255</td>\n      <td>颧骨颧弓整形的费用是多少？</td>\n      <td>颧骨颧弓整形;费用</td>\n    </tr>\n    <tr>\n      <th>745256</th>\n      <td>745256</td>\n      <td>你好，我的鼻子小，并且鼻梁又有些低，听朋友说做隆鼻手术不错，费用需要多少呢？</td>\n      <td>隆鼻;手术</td>\n    </tr>\n  </tbody>\n</table>\n<p>745257 rows × 3 columns</p>\n</div>"
     },
     "metadata": {},
     "execution_count": 88
    }
   ],
   "source": [
    "data_with_tag = pd.read_csv('data/data_with_tag.csv')\n",
    "data_with_tag"
   ]
  },
  {
   "cell_type": "code",
   "execution_count": 89,
   "metadata": {},
   "outputs": [],
   "source": [
    "data_list = data_with_tag['data'].to_list()\n",
    "tag_list = data_with_tag['tag'].to_list()"
   ]
  },
  {
   "cell_type": "code",
   "execution_count": 90,
   "metadata": {},
   "outputs": [],
   "source": [
    "keyword_lists = []\n",
    "for i in range(len(data_list)):\n",
    "    keyword_list = []\n",
    "    kw=jieba.analyse.extract_tags(data_list[i],topK=10,withWeight=False)\n",
    "    for item in kw:\n",
    "        keyword_list.append(item)\n",
    "    keyword_lists.append(keyword_list)"
   ]
  },
  {
   "cell_type": "code",
   "execution_count": 91,
   "metadata": {},
   "outputs": [],
   "source": [
    "locations = []\n",
    "with open('./data/locations.txt','r',encoding='utf-8-sig') as f:\n",
    "    for line in f.readlines():\n",
    "        line = line.strip()\n",
    "        locations.append(line)"
   ]
  },
  {
   "cell_type": "code",
   "execution_count": 92,
   "metadata": {},
   "outputs": [
    {
     "output_type": "execute_result",
     "data": {
      "text/plain": [
       "362"
      ]
     },
     "metadata": {},
     "execution_count": 92
    }
   ],
   "source": [
    "len(locations)"
   ]
  },
  {
   "cell_type": "code",
   "execution_count": 93,
   "metadata": {},
   "outputs": [],
   "source": [
    "#获取语料实体对列表\n",
    "word_lists = []\n",
    "for i in range(len(keyword_lists)):\n",
    "    word_list = []\n",
    "    for word in keyword_lists[i]:\n",
    "        if word in locations:\n",
    "            word_list.append(word)\n",
    "    if word_list != []:\n",
    "        word_lists.append(';'.join(word_list))\n",
    "    else:\n",
    "        word_lists.append('')"
   ]
  },
  {
   "cell_type": "code",
   "execution_count": 94,
   "metadata": {},
   "outputs": [],
   "source": [
    "city_index = []\n",
    "city_list = []\n",
    "for i in range(len(word_lists)):\n",
    "    if word_lists[i] != '' and len(word_lists[i].split(';'))==1:\n",
    "        city_index.append(i)\n",
    "        city_list.append(word_lists[i])"
   ]
  },
  {
   "cell_type": "code",
   "execution_count": 95,
   "metadata": {},
   "outputs": [],
   "source": [
    "data = {'data':data_list,'tag':tag_list,'city':word_lists}\n",
    "new_data = pd.DataFrame(data)"
   ]
  },
  {
   "cell_type": "code",
   "execution_count": 96,
   "metadata": {},
   "outputs": [
    {
     "output_type": "execute_result",
     "data": {
      "text/plain": [
       "                                                     data           tag city\n",
       "0       随着年纪额增长，我眼角的皱纹长起来了，加上自己不好的作息习惯，更加加速了衰老，最近想进行面部...  手术;面部除皱;手术方式     \n",
       "1                    鼻翼长得非常宽大，想通过手术的方法缩小，请问医生鼻翼可以通过手术缩小吗？            手术     \n",
       "2             我同事想去做自体脂肪丰胸手术，担心自己身上的钱不够，请问自体脂肪丰胸手术的价格多少钱？     自体脂肪丰胸;手术     \n",
       "3                                         做假体隆胸取出哪个医院比较好？       假体隆胸;医院     \n",
       "4          最近一直在想给自己隆鼻的问题，朋友们推荐我做注射隆鼻，那么我想问一下注射隆鼻的副作用是什么？   注射隆鼻;隆鼻;副作用     \n",
       "...                                                   ...           ...  ...\n",
       "745252    想要尝试一下隆胸，但是又怕别的材料不安全，想要尝试一下自体脂肪隆胸，自体脂肪隆胸需要多少钱呢？     自体脂肪隆胸;隆胸     \n",
       "745253                我的下巴看上去一点都不好看，想去做丰下巴手术，做这种手术需要多少钱呢？        手术;丰下巴     \n",
       "745254  我因为工作性质的关系，没有太多的时间运动，现在小腿部位特别粗，一直想去做一个botox瘦小腿...        手术;瘦小腿     \n",
       "745255                                      颧骨颧弓整形的费用是多少？     颧骨颧弓整形;费用     \n",
       "745256             你好，我的鼻子小，并且鼻梁又有些低，听朋友说做隆鼻手术不错，费用需要多少呢？         隆鼻;手术     \n",
       "\n",
       "[745257 rows x 3 columns]"
      ],
      "text/html": "<div>\n<style scoped>\n    .dataframe tbody tr th:only-of-type {\n        vertical-align: middle;\n    }\n\n    .dataframe tbody tr th {\n        vertical-align: top;\n    }\n\n    .dataframe thead th {\n        text-align: right;\n    }\n</style>\n<table border=\"1\" class=\"dataframe\">\n  <thead>\n    <tr style=\"text-align: right;\">\n      <th></th>\n      <th>data</th>\n      <th>tag</th>\n      <th>city</th>\n    </tr>\n  </thead>\n  <tbody>\n    <tr>\n      <th>0</th>\n      <td>随着年纪额增长，我眼角的皱纹长起来了，加上自己不好的作息习惯，更加加速了衰老，最近想进行面部...</td>\n      <td>手术;面部除皱;手术方式</td>\n      <td></td>\n    </tr>\n    <tr>\n      <th>1</th>\n      <td>鼻翼长得非常宽大，想通过手术的方法缩小，请问医生鼻翼可以通过手术缩小吗？</td>\n      <td>手术</td>\n      <td></td>\n    </tr>\n    <tr>\n      <th>2</th>\n      <td>我同事想去做自体脂肪丰胸手术，担心自己身上的钱不够，请问自体脂肪丰胸手术的价格多少钱？</td>\n      <td>自体脂肪丰胸;手术</td>\n      <td></td>\n    </tr>\n    <tr>\n      <th>3</th>\n      <td>做假体隆胸取出哪个医院比较好？</td>\n      <td>假体隆胸;医院</td>\n      <td></td>\n    </tr>\n    <tr>\n      <th>4</th>\n      <td>最近一直在想给自己隆鼻的问题，朋友们推荐我做注射隆鼻，那么我想问一下注射隆鼻的副作用是什么？</td>\n      <td>注射隆鼻;隆鼻;副作用</td>\n      <td></td>\n    </tr>\n    <tr>\n      <th>...</th>\n      <td>...</td>\n      <td>...</td>\n      <td>...</td>\n    </tr>\n    <tr>\n      <th>745252</th>\n      <td>想要尝试一下隆胸，但是又怕别的材料不安全，想要尝试一下自体脂肪隆胸，自体脂肪隆胸需要多少钱呢？</td>\n      <td>自体脂肪隆胸;隆胸</td>\n      <td></td>\n    </tr>\n    <tr>\n      <th>745253</th>\n      <td>我的下巴看上去一点都不好看，想去做丰下巴手术，做这种手术需要多少钱呢？</td>\n      <td>手术;丰下巴</td>\n      <td></td>\n    </tr>\n    <tr>\n      <th>745254</th>\n      <td>我因为工作性质的关系，没有太多的时间运动，现在小腿部位特别粗，一直想去做一个botox瘦小腿...</td>\n      <td>手术;瘦小腿</td>\n      <td></td>\n    </tr>\n    <tr>\n      <th>745255</th>\n      <td>颧骨颧弓整形的费用是多少？</td>\n      <td>颧骨颧弓整形;费用</td>\n      <td></td>\n    </tr>\n    <tr>\n      <th>745256</th>\n      <td>你好，我的鼻子小，并且鼻梁又有些低，听朋友说做隆鼻手术不错，费用需要多少呢？</td>\n      <td>隆鼻;手术</td>\n      <td></td>\n    </tr>\n  </tbody>\n</table>\n<p>745257 rows × 3 columns</p>\n</div>"
     },
     "metadata": {},
     "execution_count": 96
    }
   ],
   "source": [
    "new_data"
   ]
  },
  {
   "cell_type": "code",
   "execution_count": 117,
   "metadata": {},
   "outputs": [],
   "source": [
    "#数据增强一\n",
    "add_data = []\n",
    "add_tag = []\n",
    "add_city = []\n",
    "for i in range(len(city_index)):\n",
    "    for j in range(5):\n",
    "        idx = random.randint(0,361)\n",
    "        if city_list[i] != locations[idx]:\n",
    "            add_data.append(data_list[city_index[i]].replace(city_list[i],locations[idx]))\n",
    "            add_tag.append(tag_list[city_index[i]])\n",
    "            add_city.append(locations[idx])"
   ]
  },
  {
   "cell_type": "code",
   "execution_count": 122,
   "metadata": {},
   "outputs": [],
   "source": [
    "add_data_df = {'data':add_data,'tag':add_tag,'city':add_city}\n",
    "add_data_df = pd.DataFrame(add_data_df)"
   ]
  },
  {
   "cell_type": "code",
   "execution_count": 125,
   "metadata": {},
   "outputs": [
    {
     "output_type": "execute_result",
     "data": {
      "text/plain": [
       "                                                data      tag  city\n",
       "0  我几天前去咨询了做双眼皮，还是比较感兴趣，但是我很害怕手术的风险，也害怕手术完了以后，眼睛更...  做双眼皮;手术    阿里\n",
       "1  我几天前去咨询了做双眼皮，还是比较感兴趣，但是我很害怕手术的风险，也害怕手术完了以后，眼睛更...  做双眼皮;手术  巴彦淖尔\n",
       "2  我几天前去咨询了做双眼皮，还是比较感兴趣，但是我很害怕手术的风险，也害怕手术完了以后，眼睛更...  做双眼皮;手术    榆林\n",
       "3  我几天前去咨询了做双眼皮，还是比较感兴趣，但是我很害怕手术的风险，也害怕手术完了以后，眼睛更...  做双眼皮;手术    定西\n",
       "4  我几天前去咨询了做双眼皮，还是比较感兴趣，但是我很害怕手术的风险，也害怕手术完了以后，眼睛更...  做双眼皮;手术    眉山\n",
       "5                    您好大夫：我是莆田的，在莆田做超声法瘦脸需要多少钱啊？请教您。    超声法瘦脸    莆田\n",
       "6                    您好大夫：我是曲靖的，在曲靖做超声法瘦脸需要多少钱啊？请教您。    超声法瘦脸    曲靖\n",
       "7                    您好大夫：我是柳州的，在柳州做超声法瘦脸需要多少钱啊？请教您。    超声法瘦脸    柳州\n",
       "8                    您好大夫：我是怀化的，在怀化做超声法瘦脸需要多少钱啊？请教您。    超声法瘦脸    怀化\n",
       "9                    您好大夫：我是湘潭的，在湘潭做超声法瘦脸需要多少钱啊？请教您。    超声法瘦脸    湘潭"
      ],
      "text/html": "<div>\n<style scoped>\n    .dataframe tbody tr th:only-of-type {\n        vertical-align: middle;\n    }\n\n    .dataframe tbody tr th {\n        vertical-align: top;\n    }\n\n    .dataframe thead th {\n        text-align: right;\n    }\n</style>\n<table border=\"1\" class=\"dataframe\">\n  <thead>\n    <tr style=\"text-align: right;\">\n      <th></th>\n      <th>data</th>\n      <th>tag</th>\n      <th>city</th>\n    </tr>\n  </thead>\n  <tbody>\n    <tr>\n      <th>0</th>\n      <td>我几天前去咨询了做双眼皮，还是比较感兴趣，但是我很害怕手术的风险，也害怕手术完了以后，眼睛更...</td>\n      <td>做双眼皮;手术</td>\n      <td>阿里</td>\n    </tr>\n    <tr>\n      <th>1</th>\n      <td>我几天前去咨询了做双眼皮，还是比较感兴趣，但是我很害怕手术的风险，也害怕手术完了以后，眼睛更...</td>\n      <td>做双眼皮;手术</td>\n      <td>巴彦淖尔</td>\n    </tr>\n    <tr>\n      <th>2</th>\n      <td>我几天前去咨询了做双眼皮，还是比较感兴趣，但是我很害怕手术的风险，也害怕手术完了以后，眼睛更...</td>\n      <td>做双眼皮;手术</td>\n      <td>榆林</td>\n    </tr>\n    <tr>\n      <th>3</th>\n      <td>我几天前去咨询了做双眼皮，还是比较感兴趣，但是我很害怕手术的风险，也害怕手术完了以后，眼睛更...</td>\n      <td>做双眼皮;手术</td>\n      <td>定西</td>\n    </tr>\n    <tr>\n      <th>4</th>\n      <td>我几天前去咨询了做双眼皮，还是比较感兴趣，但是我很害怕手术的风险，也害怕手术完了以后，眼睛更...</td>\n      <td>做双眼皮;手术</td>\n      <td>眉山</td>\n    </tr>\n    <tr>\n      <th>5</th>\n      <td>您好大夫：我是莆田的，在莆田做超声法瘦脸需要多少钱啊？请教您。</td>\n      <td>超声法瘦脸</td>\n      <td>莆田</td>\n    </tr>\n    <tr>\n      <th>6</th>\n      <td>您好大夫：我是曲靖的，在曲靖做超声法瘦脸需要多少钱啊？请教您。</td>\n      <td>超声法瘦脸</td>\n      <td>曲靖</td>\n    </tr>\n    <tr>\n      <th>7</th>\n      <td>您好大夫：我是柳州的，在柳州做超声法瘦脸需要多少钱啊？请教您。</td>\n      <td>超声法瘦脸</td>\n      <td>柳州</td>\n    </tr>\n    <tr>\n      <th>8</th>\n      <td>您好大夫：我是怀化的，在怀化做超声法瘦脸需要多少钱啊？请教您。</td>\n      <td>超声法瘦脸</td>\n      <td>怀化</td>\n    </tr>\n    <tr>\n      <th>9</th>\n      <td>您好大夫：我是湘潭的，在湘潭做超声法瘦脸需要多少钱啊？请教您。</td>\n      <td>超声法瘦脸</td>\n      <td>湘潭</td>\n    </tr>\n  </tbody>\n</table>\n</div>"
     },
     "metadata": {},
     "execution_count": 125
    }
   ],
   "source": [
    "add_data_df[:10]"
   ]
  },
  {
   "cell_type": "code",
   "execution_count": 100,
   "metadata": {},
   "outputs": [],
   "source": [
    "all_index = [i for i in range(len(data_list))]\n",
    "rest_index = list(set(all_index).difference(set(city_index)))"
   ]
  },
  {
   "cell_type": "code",
   "execution_count": 101,
   "metadata": {},
   "outputs": [],
   "source": [
    "first = ['坐标xx','最近住在xx','最近一直在xx','我是xx人','我是xx地区的人','我是一个土生土长的xx人','我在xx工作','我在xx上学']\n",
    "end = ['xx哪里效果好','xx哪家医院做口碑较好？','xx这边有推荐的医院吗？','xx这边有没有好一点的整形医院？','请问在xx哪里效果好','请问xx哪家医院做口碑较好？','推荐一下xx这边的医院']"
   ]
  },
  {
   "cell_type": "code",
   "execution_count": 102,
   "metadata": {},
   "outputs": [],
   "source": [
    "for i in range(100000):\n",
    "    j = random.randint(0,7)\n",
    "    k = random.randint(0,361)\n",
    "    data_list[rest_index[i]] = first[j].replace('xx',locations[k]) + ',' + data_list[rest_index[i]]\n",
    "    word_lists[rest_index[i]] = locations[k]"
   ]
  },
  {
   "cell_type": "code",
   "execution_count": 103,
   "metadata": {},
   "outputs": [
    {
     "output_type": "execute_result",
     "data": {
      "text/plain": [
       "'我在上饶工作,鼻翼长得非常宽大，想通过手术的方法缩小，请问医生鼻翼可以通过手术缩小吗？'"
      ]
     },
     "metadata": {},
     "execution_count": 103
    }
   ],
   "source": [
    "data_list[rest_index[1]]"
   ]
  },
  {
   "cell_type": "code",
   "execution_count": 104,
   "metadata": {},
   "outputs": [],
   "source": [
    "for i in range(100000,200000):\n",
    "    j = random.randint(0,6)\n",
    "    k = random.randint(0,361)\n",
    "    data_list[rest_index[i]] = data_list[rest_index[i]] + end[j].replace('xx',locations[k])\n",
    "    word_lists[rest_index[i]] = locations[k]"
   ]
  },
  {
   "cell_type": "code",
   "execution_count": 105,
   "metadata": {},
   "outputs": [
    {
     "output_type": "execute_result",
     "data": {
      "text/plain": [
       "('女友脸上出现了很多的斑点，比较难看，想要去做激光祛斑，请问一下激光祛斑痛吗？铁岭哪家医院做口碑较好？', 745257, 745257)"
      ]
     },
     "metadata": {},
     "execution_count": 105
    }
   ],
   "source": [
    "data_list[120000],len(data_list),len(set(data_list))"
   ]
  },
  {
   "cell_type": "code",
   "execution_count": 106,
   "metadata": {},
   "outputs": [
    {
     "output_type": "execute_result",
     "data": {
      "text/plain": [
       "'激光祛斑'"
      ]
     },
     "metadata": {},
     "execution_count": 106
    }
   ],
   "source": [
    "tag_list[120000]"
   ]
  },
  {
   "cell_type": "code",
   "execution_count": 107,
   "metadata": {},
   "outputs": [
    {
     "output_type": "execute_result",
     "data": {
      "text/plain": [
       "'铁岭'"
      ]
     },
     "metadata": {},
     "execution_count": 107
    }
   ],
   "source": [
    "word_lists[120000]"
   ]
  },
  {
   "cell_type": "code",
   "execution_count": 108,
   "metadata": {},
   "outputs": [],
   "source": [
    "enhanced_data = {'data':data_list,'tag':tag_list,'city':word_lists}\n",
    "enhanced_data_df = pd.DataFrame(enhanced_data)"
   ]
  },
  {
   "cell_type": "code",
   "execution_count": 112,
   "metadata": {},
   "outputs": [
    {
     "output_type": "execute_result",
     "data": {
      "text/plain": [
       "745257"
      ]
     },
     "metadata": {},
     "execution_count": 112
    }
   ],
   "source": [
    "len(enhanced_data_df)"
   ]
  },
  {
   "cell_type": "code",
   "execution_count": 118,
   "metadata": {},
   "outputs": [],
   "source": [
    "data_list += add_data\n",
    "tag_list += add_tag\n",
    "word_lists += add_city"
   ]
  },
  {
   "cell_type": "code",
   "execution_count": 126,
   "metadata": {},
   "outputs": [
    {
     "output_type": "execute_result",
     "data": {
      "text/plain": [
       "(952875, 951618)"
      ]
     },
     "metadata": {},
     "execution_count": 126
    }
   ],
   "source": [
    "len(data_list),len(set(data_list))"
   ]
  },
  {
   "cell_type": "code",
   "execution_count": 128,
   "metadata": {},
   "outputs": [],
   "source": [
    "new_data_index = [i for i in range(len(data_list))]"
   ]
  },
  {
   "cell_type": "code",
   "execution_count": 129,
   "metadata": {},
   "outputs": [],
   "source": [
    "random.shuffle(new_data_index)"
   ]
  },
  {
   "cell_type": "code",
   "execution_count": 130,
   "metadata": {},
   "outputs": [],
   "source": [
    "new_data_list = []\n",
    "new_tag_list = []\n",
    "new_city_list = []\n",
    "for i in range(len(data_list)):\n",
    "    new_data_list.append(data_list[new_data_index[i]])\n",
    "    new_tag_list.append(tag_list[new_data_index[i]])\n",
    "    new_city_list.append(word_lists[new_data_index[i]])"
   ]
  },
  {
   "cell_type": "code",
   "execution_count": 132,
   "metadata": {},
   "outputs": [],
   "source": [
    "new_data_dict = {'data':new_data_list,'tag':new_tag_list,'city':new_city_list}\n",
    "new_data_df = pd.DataFrame(new_data_dict)"
   ]
  },
  {
   "cell_type": "code",
   "execution_count": 135,
   "metadata": {},
   "outputs": [
    {
     "output_type": "execute_result",
     "data": {
      "text/plain": [
       "                                                 data              tag  city\n",
       "20    我天生鼻骨就属于特别奇怪的，现在好不容易成年了，想在岳阳做一个鼻骨矫正手术，想知道去哪里做好？             鼻骨矫正    岳阳\n",
       "21           我的乳房特别大，让我感到很尴尬，想去做巨乳缩小手术，肇庆做这种手术价格贵不贵呢？    巨乳缩小手术;贵不贵;手术    肇庆\n",
       "22  生完孩子以后胸小了很多，而且有点干瘪的感觉，想要隆胸让自己的胸部变得更饱满一些，请问昆明隆胸...               隆胸    昆明\n",
       "23  我脸上把大概从我九岁的时候就开始出现了雀斑，脸颊的两侧和鼻子上面还蛮多的都是小点点，我妈妈脸...               雀斑      \n",
       "24        我想要去做绣眉手术，因为我的眉毛太少了，不好看，画眉又很麻烦，请问绣眉后多久可以沾水？          绣眉手术;绣眉      \n",
       "25  医生好，我咨询一下瘦脸针。我女朋友是崇左的，打算做一针瘦脸。能否介绍家最好的一针瘦脸的整形医...           瘦脸;瘦脸针    崇左\n",
       "26                                    做单颗牙种植的缺点都有哪些呢？         单颗牙种植;缺点      \n",
       "27                       脸上有明显的法令纹，想了解一下去法令纹也能用激光治疗吗？         法令纹;去法令纹      \n",
       "28                                        做抽脂手术后有效果吗？            抽脂;手术      \n",
       "29                   医生你好，我的脸比较大，请问一下注射瘦脸针会明显达到瘦脸效果吗？      注射瘦脸针;瘦脸;医生      \n",
       "30               我有个姐姐以前在读书的时候做了个纹身，现在想洗掉，请问洗纹身多少天恢复？              洗纹身      \n",
       "31        想在温州做硅胶隆鼻手术，我的鼻子很塌，侧面看起来没有鼻炎，不知道做硅胶假体隆鼻安全吗？      硅胶隆鼻;硅胶假体隆鼻    温州\n",
       "32                  请问做乳头漂红整形手术多久能够消肿呢？请问枣庄哪家医院做口碑较好？             乳头漂红    枣庄\n",
       "33    我眼睛是单眼皮，而且看起来很臃肿，没有精神，想在当地做双眼皮手术，请问泉州割双眼皮手术哪家好？       双眼皮手术;割双眼皮    泉州\n",
       "34      我的腰特别粗，就是减不下来，夏天都不能穿裙子，很烦恼，请问那曲？医院做腹部抽脂手术哪家好？               抽脂    那曲\n",
       "35        我想把我的单眼皮变成双眼皮，准备去做双眼皮的手术，想咨询一下做双眼皮的注意事项是什么？    做双眼皮;双眼皮;注意事项      \n",
       "36  能拥有双眼皮一直是我梦寐以求的事，我上次去做双眼皮手术，但是失败了。接着去做双眼皮修复，请问...  双眼皮手术;双眼皮修复;双眼皮      \n",
       "37                前段时间做过头发种植手术，这个手术还需要多次手术么？有没有什么副作用？      手术;头发种植;副作用      \n",
       "38  最近住在呼和浩特,我想通过做自体脂肪移植手术，让自己的身体更有美感，听说这项手术的效果是比较...        自体脂肪移植;手术  呼和浩特\n",
       "39    我一直都想做玻尿酸丰下巴手术，朋友说桂林做的效果不错，所以咨询一下桂林哪做玻尿酸丰下巴效果好？        玻尿酸丰下巴;手术    桂林"
      ],
      "text/html": "<div>\n<style scoped>\n    .dataframe tbody tr th:only-of-type {\n        vertical-align: middle;\n    }\n\n    .dataframe tbody tr th {\n        vertical-align: top;\n    }\n\n    .dataframe thead th {\n        text-align: right;\n    }\n</style>\n<table border=\"1\" class=\"dataframe\">\n  <thead>\n    <tr style=\"text-align: right;\">\n      <th></th>\n      <th>data</th>\n      <th>tag</th>\n      <th>city</th>\n    </tr>\n  </thead>\n  <tbody>\n    <tr>\n      <th>20</th>\n      <td>我天生鼻骨就属于特别奇怪的，现在好不容易成年了，想在岳阳做一个鼻骨矫正手术，想知道去哪里做好？</td>\n      <td>鼻骨矫正</td>\n      <td>岳阳</td>\n    </tr>\n    <tr>\n      <th>21</th>\n      <td>我的乳房特别大，让我感到很尴尬，想去做巨乳缩小手术，肇庆做这种手术价格贵不贵呢？</td>\n      <td>巨乳缩小手术;贵不贵;手术</td>\n      <td>肇庆</td>\n    </tr>\n    <tr>\n      <th>22</th>\n      <td>生完孩子以后胸小了很多，而且有点干瘪的感觉，想要隆胸让自己的胸部变得更饱满一些，请问昆明隆胸...</td>\n      <td>隆胸</td>\n      <td>昆明</td>\n    </tr>\n    <tr>\n      <th>23</th>\n      <td>我脸上把大概从我九岁的时候就开始出现了雀斑，脸颊的两侧和鼻子上面还蛮多的都是小点点，我妈妈脸...</td>\n      <td>雀斑</td>\n      <td></td>\n    </tr>\n    <tr>\n      <th>24</th>\n      <td>我想要去做绣眉手术，因为我的眉毛太少了，不好看，画眉又很麻烦，请问绣眉后多久可以沾水？</td>\n      <td>绣眉手术;绣眉</td>\n      <td></td>\n    </tr>\n    <tr>\n      <th>25</th>\n      <td>医生好，我咨询一下瘦脸针。我女朋友是崇左的，打算做一针瘦脸。能否介绍家最好的一针瘦脸的整形医...</td>\n      <td>瘦脸;瘦脸针</td>\n      <td>崇左</td>\n    </tr>\n    <tr>\n      <th>26</th>\n      <td>做单颗牙种植的缺点都有哪些呢？</td>\n      <td>单颗牙种植;缺点</td>\n      <td></td>\n    </tr>\n    <tr>\n      <th>27</th>\n      <td>脸上有明显的法令纹，想了解一下去法令纹也能用激光治疗吗？</td>\n      <td>法令纹;去法令纹</td>\n      <td></td>\n    </tr>\n    <tr>\n      <th>28</th>\n      <td>做抽脂手术后有效果吗？</td>\n      <td>抽脂;手术</td>\n      <td></td>\n    </tr>\n    <tr>\n      <th>29</th>\n      <td>医生你好，我的脸比较大，请问一下注射瘦脸针会明显达到瘦脸效果吗？</td>\n      <td>注射瘦脸针;瘦脸;医生</td>\n      <td></td>\n    </tr>\n    <tr>\n      <th>30</th>\n      <td>我有个姐姐以前在读书的时候做了个纹身，现在想洗掉，请问洗纹身多少天恢复？</td>\n      <td>洗纹身</td>\n      <td></td>\n    </tr>\n    <tr>\n      <th>31</th>\n      <td>想在温州做硅胶隆鼻手术，我的鼻子很塌，侧面看起来没有鼻炎，不知道做硅胶假体隆鼻安全吗？</td>\n      <td>硅胶隆鼻;硅胶假体隆鼻</td>\n      <td>温州</td>\n    </tr>\n    <tr>\n      <th>32</th>\n      <td>请问做乳头漂红整形手术多久能够消肿呢？请问枣庄哪家医院做口碑较好？</td>\n      <td>乳头漂红</td>\n      <td>枣庄</td>\n    </tr>\n    <tr>\n      <th>33</th>\n      <td>我眼睛是单眼皮，而且看起来很臃肿，没有精神，想在当地做双眼皮手术，请问泉州割双眼皮手术哪家好？</td>\n      <td>双眼皮手术;割双眼皮</td>\n      <td>泉州</td>\n    </tr>\n    <tr>\n      <th>34</th>\n      <td>我的腰特别粗，就是减不下来，夏天都不能穿裙子，很烦恼，请问那曲？医院做腹部抽脂手术哪家好？</td>\n      <td>抽脂</td>\n      <td>那曲</td>\n    </tr>\n    <tr>\n      <th>35</th>\n      <td>我想把我的单眼皮变成双眼皮，准备去做双眼皮的手术，想咨询一下做双眼皮的注意事项是什么？</td>\n      <td>做双眼皮;双眼皮;注意事项</td>\n      <td></td>\n    </tr>\n    <tr>\n      <th>36</th>\n      <td>能拥有双眼皮一直是我梦寐以求的事，我上次去做双眼皮手术，但是失败了。接着去做双眼皮修复，请问...</td>\n      <td>双眼皮手术;双眼皮修复;双眼皮</td>\n      <td></td>\n    </tr>\n    <tr>\n      <th>37</th>\n      <td>前段时间做过头发种植手术，这个手术还需要多次手术么？有没有什么副作用？</td>\n      <td>手术;头发种植;副作用</td>\n      <td></td>\n    </tr>\n    <tr>\n      <th>38</th>\n      <td>最近住在呼和浩特,我想通过做自体脂肪移植手术，让自己的身体更有美感，听说这项手术的效果是比较...</td>\n      <td>自体脂肪移植;手术</td>\n      <td>呼和浩特</td>\n    </tr>\n    <tr>\n      <th>39</th>\n      <td>我一直都想做玻尿酸丰下巴手术，朋友说桂林做的效果不错，所以咨询一下桂林哪做玻尿酸丰下巴效果好？</td>\n      <td>玻尿酸丰下巴;手术</td>\n      <td>桂林</td>\n    </tr>\n  </tbody>\n</table>\n</div>"
     },
     "metadata": {},
     "execution_count": 135
    }
   ],
   "source": []
  },
  {
   "cell_type": "code",
   "execution_count": 136,
   "metadata": {},
   "outputs": [],
   "source": [
    "new_data_df.to_csv('data/data_with_tag_and_city.csv')"
   ]
  },
  {
   "cell_type": "code",
   "execution_count": 175,
   "metadata": {},
   "outputs": [],
   "source": [
    "\"\"\"\n",
    "按照标点符号切割的预处理数据\n",
    "\"\"\"\n",
    "len_treshold = 108 #  每条数据的最大长度, 留下两个位置给[CLS]和[SEP]\n",
    "data_dir = 'data/'\n",
    "all_data_dir = 'data/data_with_tag_and_city.csv'\n",
    "all_data_df = pd.read_csv(all_data_dir,encoding='utf-8')\n"
   ]
  },
  {
   "cell_type": "code",
   "execution_count": 176,
   "metadata": {},
   "outputs": [
    {
     "output_type": "execute_result",
     "data": {
      "text/plain": [
       "0                我有严重的眼袋，特别影响个人形象气质，想去做去眼袋手术，济南做这种手术需要多少钱呢？\n",
       "1         我老公一直抱怨我的鼻子不好看，我的鼻子天生的鼻尖有点翘，鼻梁并不算太高，医生说可以做隆鼻手术...\n",
       "2                               刚割的双眼皮抽脂少了还能修复不玉溪哪家医院做口碑较好？\n",
       "3         身体特别的肥胖，所以想减肥，但是但是减肥的方法实在有太多了，不知道如何选择。不知道如何减肥效...\n",
       "4         我的胸一直都是A，感觉像没发育的一样，虽然以前不是很注意，但是发现男生都还是喜欢胸大的，女士...\n",
       "                                ...                        \n",
       "952870                    我在柳州上学,鼻孔缩小术的恢复时间？我准备进行手术了，怕耽误时间。\n",
       "952871    因为我的体毛比较的长，加上夏天一穿上短袖什么的露出来的手啊脚啊的。都会看到我那明显的体息，我...\n",
       "952872             我腰腹部位脂肪堆积的问题比较严重，去做了腰腹吸脂手术，腰腹吸脂手术后事项有哪些？\n",
       "952873                                        半永久纹眉手术，要洗几次？\n",
       "952874    武汉治软疣好的医院？请问一下武汉治软疣好的医院.我的手长了个软疣，本来想去医院的，但想想不太...\n",
       "Name: data, Length: 952875, dtype: object"
      ]
     },
     "metadata": {},
     "execution_count": 176
    }
   ],
   "source": [
    "all_data_df['data']"
   ]
  },
  {
   "cell_type": "code",
   "execution_count": 177,
   "metadata": {},
   "outputs": [
    {
     "output_type": "stream",
     "name": "stdout",
     "text": [
      "{'*', '<', '%', '？', '(', ':', '》', '‘', '·', '^', '/', '#', '~', '+', '，', '$', '；', '?', '}', '>', '&', '：', '-', ')', '’', '。', '）', '【', '|', '】', ',', '、', '《', ']', '@', '！', '￥', '\\\\', '.', '“', '”', '（', '`', '_', '{', '!', ';', '[', '='}\n"
     ]
    }
   ],
   "source": [
    "# 找出所有的非中文、非英文和非数字符号\n",
    "additional_chars = set()\n",
    "for t in list(all_data_df['data']):\n",
    "    additional_chars.update(re.findall(u'[^\\u4e00-\\u9fa5a-zA-Z0-9\\*]', str(t)))\n",
    "\n",
    "# 一些需要保留的符号\n",
    "extra_chars = set(\"!#$%&\\()*+,-./:;<=>?@[\\\\]^_`{|}~！#￥%&？《》{}“”，：‘’。（）·、；【】\")\n",
    "print(extra_chars)\n",
    "additional_chars = additional_chars.difference(extra_chars)\n",
    "# additional_chars"
   ]
  },
  {
   "cell_type": "code",
   "execution_count": 178,
   "metadata": {},
   "outputs": [],
   "source": [
    "def stop_words(x):\n",
    "    try:\n",
    "        x = x.strip()\n",
    "    except:\n",
    "        return ''\n",
    "    x = re.sub('{IMG:.?.?.?}', '', x)\n",
    "    x = re.sub('<!--IMG_\\d+-->', '', x)\n",
    "    x = re.sub('(https?|ftp|file)://[-A-Za-z0-9+&@#/%?=~_|!:,.;]+[-A-Za-z0-9+&@#/%=~_|]', '', x)  # 过滤网址\n",
    "    x = re.sub('<a[^>]*>', '', x).replace(\"</a>\", \"\")  # 过滤a标签\n",
    "    x = re.sub('<P[^>]*>', '', x).replace(\"</P>\", \"\")  # 过滤P标签\n",
    "    x = re.sub('<strong[^>]*>', ',', x).replace(\"</strong>\", \"\")  # 过滤strong标签\n",
    "    x = re.sub('<br>', ',', x)  # 过滤br标签\n",
    "    x = re.sub('www.[-A-Za-z0-9+&@#/%?=~_|!:,.;]+[-A-Za-z0-9+&@#/%=~_|]', '', x).replace(\"()\", \"\")  # 过滤www开头的网址\n",
    "    x = re.sub('\\s', '', x)   # 过滤不可见字符\n",
    "    x = re.sub('Ⅴ', 'V', x)\n",
    "\n",
    "    for wbad in additional_chars:\n",
    "        x = x.replace(wbad, '')\n",
    "    return x"
   ]
  },
  {
   "cell_type": "code",
   "execution_count": 179,
   "metadata": {},
   "outputs": [
    {
     "output_type": "execute_result",
     "data": {
      "text/plain": [
       "        Unnamed: 0                                               data  \\\n",
       "0                0         我有严重的眼袋，特别影响个人形象气质，想去做去眼袋手术，济南做这种手术需要多少钱呢？   \n",
       "1                1  我老公一直抱怨我的鼻子不好看，我的鼻子天生的鼻尖有点翘，鼻梁并不算太高，医生说可以做隆鼻手术...   \n",
       "2                2                        刚割的双眼皮抽脂少了还能修复不玉溪哪家医院做口碑较好？   \n",
       "3                3  身体特别的肥胖，所以想减肥，但是但是减肥的方法实在有太多了，不知道如何选择。不知道如何减肥效...   \n",
       "4                4  我的胸一直都是A，感觉像没发育的一样，虽然以前不是很注意，但是发现男生都还是喜欢胸大的，女士...   \n",
       "...            ...                                                ...   \n",
       "952870      952870                  我在柳州上学,鼻孔缩小术的恢复时间？我准备进行手术了，怕耽误时间。   \n",
       "952871      952871  因为我的体毛比较的长，加上夏天一穿上短袖什么的露出来的手啊脚啊的。都会看到我那明显的体息，我...   \n",
       "952872      952872           我腰腹部位脂肪堆积的问题比较严重，去做了腰腹吸脂手术，腰腹吸脂手术后事项有哪些？   \n",
       "952873      952873                                      半永久纹眉手术，要洗几次？   \n",
       "952874      952874  武汉治软疣好的医院？请问一下武汉治软疣好的医院.我的手长了个软疣，本来想去医院的，但想想不太...   \n",
       "\n",
       "                  tag city  \n",
       "0            去眼袋手术;手术   济南  \n",
       "1               隆鼻;手术       \n",
       "2              抽脂;双眼皮   玉溪  \n",
       "3                  减肥       \n",
       "4          胶原蛋白丰胸;并发症       \n",
       "...               ...  ...  \n",
       "952870  鼻孔缩小术;恢复时间;手术   柳州  \n",
       "952871             脱毛       \n",
       "952872         腰腹吸脂手术       \n",
       "952873       半永久纹眉;手术       \n",
       "952874             医院   武汉  \n",
       "\n",
       "[952875 rows x 4 columns]"
      ],
      "text/html": "<div>\n<style scoped>\n    .dataframe tbody tr th:only-of-type {\n        vertical-align: middle;\n    }\n\n    .dataframe tbody tr th {\n        vertical-align: top;\n    }\n\n    .dataframe thead th {\n        text-align: right;\n    }\n</style>\n<table border=\"1\" class=\"dataframe\">\n  <thead>\n    <tr style=\"text-align: right;\">\n      <th></th>\n      <th>Unnamed: 0</th>\n      <th>data</th>\n      <th>tag</th>\n      <th>city</th>\n    </tr>\n  </thead>\n  <tbody>\n    <tr>\n      <th>0</th>\n      <td>0</td>\n      <td>我有严重的眼袋，特别影响个人形象气质，想去做去眼袋手术，济南做这种手术需要多少钱呢？</td>\n      <td>去眼袋手术;手术</td>\n      <td>济南</td>\n    </tr>\n    <tr>\n      <th>1</th>\n      <td>1</td>\n      <td>我老公一直抱怨我的鼻子不好看，我的鼻子天生的鼻尖有点翘，鼻梁并不算太高，医生说可以做隆鼻手术...</td>\n      <td>隆鼻;手术</td>\n      <td></td>\n    </tr>\n    <tr>\n      <th>2</th>\n      <td>2</td>\n      <td>刚割的双眼皮抽脂少了还能修复不玉溪哪家医院做口碑较好？</td>\n      <td>抽脂;双眼皮</td>\n      <td>玉溪</td>\n    </tr>\n    <tr>\n      <th>3</th>\n      <td>3</td>\n      <td>身体特别的肥胖，所以想减肥，但是但是减肥的方法实在有太多了，不知道如何选择。不知道如何减肥效...</td>\n      <td>减肥</td>\n      <td></td>\n    </tr>\n    <tr>\n      <th>4</th>\n      <td>4</td>\n      <td>我的胸一直都是A，感觉像没发育的一样，虽然以前不是很注意，但是发现男生都还是喜欢胸大的，女士...</td>\n      <td>胶原蛋白丰胸;并发症</td>\n      <td></td>\n    </tr>\n    <tr>\n      <th>...</th>\n      <td>...</td>\n      <td>...</td>\n      <td>...</td>\n      <td>...</td>\n    </tr>\n    <tr>\n      <th>952870</th>\n      <td>952870</td>\n      <td>我在柳州上学,鼻孔缩小术的恢复时间？我准备进行手术了，怕耽误时间。</td>\n      <td>鼻孔缩小术;恢复时间;手术</td>\n      <td>柳州</td>\n    </tr>\n    <tr>\n      <th>952871</th>\n      <td>952871</td>\n      <td>因为我的体毛比较的长，加上夏天一穿上短袖什么的露出来的手啊脚啊的。都会看到我那明显的体息，我...</td>\n      <td>脱毛</td>\n      <td></td>\n    </tr>\n    <tr>\n      <th>952872</th>\n      <td>952872</td>\n      <td>我腰腹部位脂肪堆积的问题比较严重，去做了腰腹吸脂手术，腰腹吸脂手术后事项有哪些？</td>\n      <td>腰腹吸脂手术</td>\n      <td></td>\n    </tr>\n    <tr>\n      <th>952873</th>\n      <td>952873</td>\n      <td>半永久纹眉手术，要洗几次？</td>\n      <td>半永久纹眉;手术</td>\n      <td></td>\n    </tr>\n    <tr>\n      <th>952874</th>\n      <td>952874</td>\n      <td>武汉治软疣好的医院？请问一下武汉治软疣好的医院.我的手长了个软疣，本来想去医院的，但想想不太...</td>\n      <td>医院</td>\n      <td>武汉</td>\n    </tr>\n  </tbody>\n</table>\n<p>952875 rows × 4 columns</p>\n</div>"
     },
     "metadata": {},
     "execution_count": 179
    }
   ],
   "source": [
    "# 清除噪声\n",
    "all_data_df['data'] = all_data_df['data'].apply(stop_words)\n",
    "all_data_df = all_data_df.fillna('')\n",
    "all_data_df"
   ]
  },
  {
   "cell_type": "code",
   "execution_count": 185,
   "metadata": {},
   "outputs": [
    {
     "output_type": "execute_result",
     "data": {
      "text/plain": [
       "108"
      ]
     },
     "metadata": {},
     "execution_count": 185
    }
   ],
   "source": [
    "lengths = []\n",
    "for i in range(len(all_data_df['data'])):\n",
    "    lengths.append(len(all_data_df['data'][i]))\n",
    "\n",
    "new_text_list = []\n",
    "new_project_list = []\n",
    "new_cities_list = []\n",
    "for i in range(len(lengths)):\n",
    "    if lengths[i] <= len_treshold:\n",
    "        new_text_list.append(all_data_df['data'][i])\n",
    "        new_project_list.append(all_data_df['tag'][i])\n",
    "        new_cities_list.append(all_data_df['city'][i])\n",
    "\n",
    "new_lengths = []\n",
    "for i in range(len(new_text_list)):\n",
    "    new_lengths.append(len(new_text_list[i]))\n",
    "max(new_lengths)"
   ]
  },
  {
   "cell_type": "code",
   "execution_count": 186,
   "metadata": {},
   "outputs": [
    {
     "output_type": "execute_result",
     "data": {
      "text/plain": [
       "(922159, 922159, 922159)"
      ]
     },
     "metadata": {},
     "execution_count": 186
    }
   ],
   "source": [
    "len(new_text_list),len(new_project_list),len(new_cities_list)"
   ]
  },
  {
   "cell_type": "code",
   "execution_count": 188,
   "metadata": {},
   "outputs": [],
   "source": [
    "data_dict = {'text':new_text_list,'project':new_project_list,'city':new_cities_list}\n",
    "data_df = pd.DataFrame(data_df)"
   ]
  },
  {
   "cell_type": "code",
   "execution_count": 192,
   "metadata": {},
   "outputs": [],
   "source": [
    "# 构造训练集、验证集与测试集\n",
    "with codecs.open(data_dir + 'all_data.txt', 'w', encoding='utf-8') as up:\n",
    "    for row in data_df.iloc[:].itertuples():\n",
    "        # print(row.unknownEntities)\n",
    "        text_lbl = str(row.text)\n",
    "        entitys = str(row.project).split(';')\n",
    "        cities = str(row.city).split(';')\n",
    "        for entity in entitys:\n",
    "            text_lbl = text_lbl.replace(entity, 'Ё' + (len(entity) - 2) * 'Ж' + '✈')\n",
    "\n",
    "        for city in cities:\n",
    "            if city != '':\n",
    "                text_lbl = text_lbl.replace(city, '♝' + (len(city)-2) * '✺' + '♞' )\n",
    "\n",
    "        for c1, c2 in zip(str(row.text), text_lbl):\n",
    "            if c2 == 'Ё':\n",
    "                up.write('{0} {1}\\n'.format(c1, 'B-ORG'))\n",
    "            elif c2 == 'Ж':\n",
    "                up.write('{0} {1}\\n'.format(c1, 'I-ORG'))\n",
    "            elif c2 == '✈':\n",
    "                up.write('{0} {1}\\n'.format(c1, 'E-ORG'))\n",
    "            elif c2 == '♝':\n",
    "                up.write('{0} {1}\\n'.format(c1, 'B-LOC'))\n",
    "            elif c2 == '✺':\n",
    "                up.write('{0} {1}\\n'.format(c1, 'I-LOC'))\n",
    "            elif c2 == '♞':\n",
    "                up.write('{0} {1}\\n'.format(c1, 'E-LOC'))\n",
    "            else:\n",
    "                up.write('{0} {1}\\n'.format(c1, 'O'))\n",
    "        up.write('\\n')"
   ]
  },
  {
   "cell_type": "code",
   "execution_count": null,
   "metadata": {},
   "outputs": [],
   "source": []
  }
 ]
}